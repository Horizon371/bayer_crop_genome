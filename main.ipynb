{
 "cells": [
  {
   "cell_type": "code",
   "execution_count": 1,
   "id": "7f238706",
   "metadata": {},
   "outputs": [],
   "source": [
    "import pandas as pd\n",
    "import polars as pl"
   ]
  },
  {
   "cell_type": "code",
   "execution_count": 2,
   "id": "67dc20b7",
   "metadata": {},
   "outputs": [],
   "source": [
    "# df = pl.read_csv('data/g2f_2018_agronomic_information.csv')\n",
    "df_hybrid = pd.read_csv('data/g2f_2018_hybrid_data_clean.csv')\n",
    "\n",
    "# Find the header line (starts with '#CHROM') and read from there\n",
    "with open('data/G2F_PHG_minreads1_Mo44_PHW65_MoG_assemblies_14112019_filtered_plusParents.vcf', encoding='cp1252') as f:\n",
    "\tfor i, line in enumerate(f):\n",
    "\t\tif line.startswith('#CHROM'):\n",
    "\t\t\theader_line = i\n",
    "\t\t\tbreak\n",
    "\n",
    "df_genomic = pd.read_csv(\n",
    "\t'data/G2F_PHG_minreads1_Mo44_PHW65_MoG_assemblies_14112019_filtered_plusParents.vcf',\n",
    "\tdelimiter='\\t',\n",
    "\tskiprows=header_line,\n",
    "\theader=0\n",
    ")"
   ]
  },
  {
   "cell_type": "code",
   "execution_count": null,
   "id": "8b205525",
   "metadata": {},
   "outputs": [],
   "source": [
    "df_hybrid.where(pd.notna(df_hybrid), None, inplace=True)\n",
    "\n",
    "pl_df_genomic = pl.from_pandas(df_genomic)\n",
    "pl_df_hybrid = pl.from_pandas(df_hybrid)"
   ]
  },
  {
   "cell_type": "code",
   "execution_count": 7,
   "id": "948b72eb",
   "metadata": {},
   "outputs": [],
   "source": [
    "df_agronomic = pl.read_csv('data/g2f_2018_agronomic_information.csv', encoding='cp1252')\n",
    "df_soil = pl.read_csv('data/g2f_2018_soil_data.csv', encoding='cp1252')"
   ]
  },
  {
   "cell_type": "code",
   "execution_count": 12,
   "id": "23a87bbc",
   "metadata": {},
   "outputs": [
    {
     "data": {
      "text/html": [
       "<div><style>\n",
       ".dataframe > thead > tr,\n",
       ".dataframe > tbody > tr {\n",
       "  text-align: right;\n",
       "  white-space: pre-wrap;\n",
       "}\n",
       "</style>\n",
       "<small>shape: (9, 41)</small><table border=\"1\" class=\"dataframe\"><thead><tr><th>statistic</th><th>Field-Location</th><th>RecId</th><th>Source</th><th>Pedigree</th><th>Family</th><th>Replicate</th><th>Block</th><th>Plot</th><th>Range</th><th>Pass</th><th>Tester/Group</th><th>Local Check (Yes, No)</th><th>Plot Length Field</th><th>Alley Length</th><th>Row Spacing</th><th>Plot Area</th><th>Rows/Plot</th><th>Packet/Plot</th><th>Kernels/Packet</th><th># Seed</th><th>Date Planted</th><th>Date Harvested</th><th>Anthesis [date]</th><th>Silking [date]</th><th>Pollen DAP [days]</th><th>Silk DAP [days]</th><th>Plant Height [cm]</th><th>Ear Height [cm]</th><th>Stand Count [plants]</th><th>Stand [%]</th><th>Root Lodging [plants]</th><th>Stalk Lodging [plants]</th><th>Grain Moisture [%]</th><th>Test Weight [lbs/bu]</th><th>Plot Weight [lbs]</th><th>Grain Yield [bu/A]</th><th>Plot Discarded [enter &quot;Yes&quot; or &quot;blank&quot;]</th><th>Comments</th><th>Filler [enter &quot;filler&quot; or &quot;blank&quot;]</th><th>[add additional measurements here]</th></tr><tr><td>str</td><td>str</td><td>f64</td><td>str</td><td>str</td><td>str</td><td>f64</td><td>f64</td><td>f64</td><td>f64</td><td>f64</td><td>str</td><td>str</td><td>f64</td><td>f64</td><td>f64</td><td>f64</td><td>f64</td><td>f64</td><td>f64</td><td>f64</td><td>str</td><td>str</td><td>str</td><td>str</td><td>f64</td><td>f64</td><td>f64</td><td>f64</td><td>f64</td><td>f64</td><td>f64</td><td>f64</td><td>f64</td><td>f64</td><td>f64</td><td>f64</td><td>str</td><td>str</td><td>str</td><td>f64</td></tr></thead><tbody><tr><td>&quot;count&quot;</td><td>&quot;24629&quot;</td><td>22830.0</td><td>&quot;24521&quot;</td><td>&quot;24629&quot;</td><td>&quot;24412&quot;</td><td>24629.0</td><td>24229.0</td><td>24629.0</td><td>18225.0</td><td>18225.0</td><td>&quot;24411&quot;</td><td>&quot;24629&quot;</td><td>24629.0</td><td>24629.0</td><td>24629.0</td><td>24629.0</td><td>24629.0</td><td>24629.0</td><td>24229.0</td><td>24229.0</td><td>&quot;24629&quot;</td><td>&quot;24629&quot;</td><td>&quot;19465&quot;</td><td>&quot;19399&quot;</td><td>19465.0</td><td>19399.0</td><td>23329.0</td><td>23314.0</td><td>19835.0</td><td>19435.0</td><td>4191.0</td><td>6276.0</td><td>24024.0</td><td>20040.0</td><td>24026.0</td><td>24023.0</td><td>&quot;250&quot;</td><td>&quot;1190&quot;</td><td>&quot;75&quot;</td><td>0.0</td></tr><tr><td>&quot;null_count&quot;</td><td>&quot;0&quot;</td><td>1799.0</td><td>&quot;108&quot;</td><td>&quot;0&quot;</td><td>&quot;217&quot;</td><td>0.0</td><td>400.0</td><td>0.0</td><td>6404.0</td><td>6404.0</td><td>&quot;218&quot;</td><td>&quot;0&quot;</td><td>0.0</td><td>0.0</td><td>0.0</td><td>0.0</td><td>0.0</td><td>0.0</td><td>400.0</td><td>400.0</td><td>&quot;0&quot;</td><td>&quot;0&quot;</td><td>&quot;5164&quot;</td><td>&quot;5230&quot;</td><td>5164.0</td><td>5230.0</td><td>1300.0</td><td>1315.0</td><td>4794.0</td><td>5194.0</td><td>20438.0</td><td>18353.0</td><td>605.0</td><td>4589.0</td><td>603.0</td><td>606.0</td><td>&quot;24379&quot;</td><td>&quot;23439&quot;</td><td>&quot;24554&quot;</td><td>24629.0</td></tr><tr><td>&quot;mean&quot;</td><td>null</td><td>4.1022e6</td><td>null</td><td>null</td><td>null</td><td>1.550611</td><td>2.420075</td><td>145.39957</td><td>21.26085</td><td>38.96834</td><td>null</td><td>null</td><td>21.744407</td><td>3.080799</td><td>30.746437</td><td>95.469572</td><td>2.0</td><td>1.434731</td><td>66.031615</td><td>82.640307</td><td>null</td><td>null</td><td>null</td><td>null</td><td>62.385307</td><td>63.617815</td><td>227.227977</td><td>107.462787</td><td>61.286564</td><td>74.326434</td><td>12.269148</td><td>7.970204</td><td>18.906409</td><td>56.710218</td><td>20.273284</td><td>154.955588</td><td>null</td><td>null</td><td>null</td><td>null</td></tr><tr><td>&quot;std&quot;</td><td>null</td><td>231797.147995</td><td>null</td><td>null</td><td>null</td><td>0.561261</td><td>1.627429</td><td>96.283039</td><td>23.694965</td><td>31.677227</td><td>null</td><td>null</td><td>2.857864</td><td>0.989041</td><td>2.396514</td><td>14.876212</td><td>0.0</td><td>0.495732</td><td>24.226601</td><td>10.871103</td><td>null</td><td>null</td><td>null</td><td>null</td><td>6.284012</td><td>6.389893</td><td>34.368733</td><td>19.976424</td><td>12.640512</td><td>12.613112</td><td>17.786767</td><td>10.185353</td><td>4.302735</td><td>5.661169</td><td>7.000379</td><td>43.532082</td><td>null</td><td>null</td><td>null</td><td>null</td></tr><tr><td>&quot;min&quot;</td><td>&quot;ARH1&quot;</td><td>3.060523e6</td><td>&quot;10SKRL:Breed:0994/0993&quot;</td><td>&quot;1319 YHR&quot;</td><td>&quot;DII-EARLY&quot;</td><td>1.0</td><td>1.0</td><td>1.0</td><td>1.0</td><td>1.0</td><td>&quot;DII-EARLY&quot;</td><td>&quot;No&quot;</td><td>16.0</td><td>2.0</td><td>30.0</td><td>60.0</td><td>2.0</td><td>1.0</td><td>25.0</td><td>50.0</td><td>&quot;3/8/2018&quot;</td><td>&quot;10/15/2018&quot;</td><td>&quot;5/11/2018&quot;</td><td>&quot;5/11/2018&quot;</td><td>44.0</td><td>44.0</td><td>104.0</td><td>49.0</td><td>3.0</td><td>3.33</td><td>0.0</td><td>1.0</td><td>3.56</td><td>5.08</td><td>0.1277</td><td>9.81</td><td>&quot;Yes&quot;</td><td>&quot;&quot;gap&quot;</td><td>&quot;fIller&quot;</td><td>null</td></tr><tr><td>&quot;25%&quot;</td><td>null</td><td>3.957522e6</td><td>null</td><td>null</td><td>null</td><td>1.0</td><td>1.0</td><td>65.0</td><td>7.0</td><td>16.0</td><td>null</td><td>null</td><td>20.0</td><td>2.5</td><td>30.0</td><td>87.5</td><td>2.0</td><td>1.0</td><td>40.0</td><td>80.0</td><td>null</td><td>null</td><td>null</td><td>null</td><td>58.0</td><td>60.0</td><td>203.0</td><td>93.0</td><td>55.0</td><td>68.75</td><td>1.0</td><td>2.0</td><td>16.3</td><td>55.19</td><td>15.98</td><td>124.83</td><td>null</td><td>null</td><td>null</td><td>null</td></tr><tr><td>&quot;50%&quot;</td><td>null</td><td>3.958236e6</td><td>null</td><td>null</td><td>null</td><td>2.0</td><td>2.0</td><td>134.0</td><td>14.0</td><td>30.0</td><td>null</td><td>null</td><td>21.0</td><td>3.0</td><td>30.0</td><td>87.5</td><td>2.0</td><td>1.0</td><td>80.0</td><td>80.0</td><td>null</td><td>null</td><td>null</td><td>null</td><td>62.0</td><td>63.0</td><td>230.0</td><td>107.0</td><td>62.0</td><td>76.25</td><td>3.0</td><td>4.0</td><td>18.4</td><td>57.0</td><td>19.98</td><td>155.31</td><td>null</td><td>null</td><td>null</td><td>null</td></tr><tr><td>&quot;75%&quot;</td><td>null</td><td>4.227128e6</td><td>null</td><td>null</td><td>null</td><td>2.0</td><td>3.0</td><td>213.0</td><td>25.0</td><td>52.0</td><td>null</td><td>null</td><td>25.0</td><td>3.5</td><td>30.0</td><td>110.0</td><td>2.0</td><td>2.0</td><td>88.0</td><td>88.0</td><td>null</td><td>null</td><td>null</td><td>null</td><td>66.0</td><td>68.0</td><td>251.0</td><td>120.0</td><td>69.0</td><td>82.5</td><td>15.0</td><td>10.0</td><td>21.4</td><td>58.71</td><td>23.63</td><td>185.05</td><td>null</td><td>null</td><td>null</td><td>null</td></tr><tr><td>&quot;max&quot;</td><td>&quot;WIH2&quot;</td><td>4.557401e6</td><td>&quot;WL13-7918/PHP02&quot;</td><td>&quot;TX779/LH195&quot;</td><td>&quot;YELLOW STRIPE&quot;</td><td>3.0</td><td>7.0</td><td>400.0</td><td>123.0</td><td>136.0</td><td>&quot;YELLOW STRIPE&quot;</td><td>&quot;Yes&quot;</td><td>25.0</td><td>6.0</td><td>40.0</td><td>126.67</td><td>2.0</td><td>2.0</td><td>110.0</td><td>110.0</td><td>&quot;5/8/2018&quot;</td><td>&quot;9/27/2018&quot;</td><td>&quot;8/7/2018&quot;</td><td>&quot;8/9/2018&quot;</td><td>82.0</td><td>82.0</td><td>391.0</td><td>241.0</td><td>97.0</td><td>100.0</td><td>78.0</td><td>100.0</td><td>40.86</td><td>128.0</td><td>67.5</td><td>370.7</td><td>&quot;Yes&quot;</td><td>&quot;tall!&quot;</td><td>&quot;fIller&quot;</td><td>null</td></tr></tbody></table></div>"
      ],
      "text/plain": [
       "shape: (9, 41)\n",
       "┌───────────┬───────────┬───────────┬───────────┬───┬───────────┬──────────┬───────────┬───────────┐\n",
       "│ statistic ┆ Field-Loc ┆ RecId     ┆ Source    ┆ … ┆ Plot      ┆ Comments ┆ Filler    ┆ [add addi │\n",
       "│ ---       ┆ ation     ┆ ---       ┆ ---       ┆   ┆ Discarded ┆ ---      ┆ [enter    ┆ tional    │\n",
       "│ str       ┆ ---       ┆ f64       ┆ str       ┆   ┆ [enter    ┆ str      ┆ \"filler\"  ┆ measureme │\n",
       "│           ┆ str       ┆           ┆           ┆   ┆ \"Yes\" or… ┆          ┆ or \"bla…  ┆ nts h…    │\n",
       "│           ┆           ┆           ┆           ┆   ┆ ---       ┆          ┆ ---       ┆ ---       │\n",
       "│           ┆           ┆           ┆           ┆   ┆ str       ┆          ┆ str       ┆ f64       │\n",
       "╞═══════════╪═══════════╪═══════════╪═══════════╪═══╪═══════════╪══════════╪═══════════╪═══════════╡\n",
       "│ count     ┆ 24629     ┆ 22830.0   ┆ 24521     ┆ … ┆ 250       ┆ 1190     ┆ 75        ┆ 0.0       │\n",
       "│ null_coun ┆ 0         ┆ 1799.0    ┆ 108       ┆ … ┆ 24379     ┆ 23439    ┆ 24554     ┆ 24629.0   │\n",
       "│ t         ┆           ┆           ┆           ┆   ┆           ┆          ┆           ┆           │\n",
       "│ mean      ┆ null      ┆ 4.1022e6  ┆ null      ┆ … ┆ null      ┆ null     ┆ null      ┆ null      │\n",
       "│ std       ┆ null      ┆ 231797.14 ┆ null      ┆ … ┆ null      ┆ null     ┆ null      ┆ null      │\n",
       "│           ┆           ┆ 7995      ┆           ┆   ┆           ┆          ┆           ┆           │\n",
       "│ min       ┆ ARH1      ┆ 3.060523e ┆ 10SKRL:Br ┆ … ┆ Yes       ┆ \"gap     ┆ fIller    ┆ null      │\n",
       "│           ┆           ┆ 6         ┆ eed:0994/ ┆   ┆           ┆          ┆           ┆           │\n",
       "│           ┆           ┆           ┆ 0993      ┆   ┆           ┆          ┆           ┆           │\n",
       "│ 25%       ┆ null      ┆ 3.957522e ┆ null      ┆ … ┆ null      ┆ null     ┆ null      ┆ null      │\n",
       "│           ┆           ┆ 6         ┆           ┆   ┆           ┆          ┆           ┆           │\n",
       "│ 50%       ┆ null      ┆ 3.958236e ┆ null      ┆ … ┆ null      ┆ null     ┆ null      ┆ null      │\n",
       "│           ┆           ┆ 6         ┆           ┆   ┆           ┆          ┆           ┆           │\n",
       "│ 75%       ┆ null      ┆ 4.227128e ┆ null      ┆ … ┆ null      ┆ null     ┆ null      ┆ null      │\n",
       "│           ┆           ┆ 6         ┆           ┆   ┆           ┆          ┆           ┆           │\n",
       "│ max       ┆ WIH2      ┆ 4.557401e ┆ WL13-7918 ┆ … ┆ Yes       ┆ tall!    ┆ fIller    ┆ null      │\n",
       "│           ┆           ┆ 6         ┆ /PHP02    ┆   ┆           ┆          ┆           ┆           │\n",
       "└───────────┴───────────┴───────────┴───────────┴───┴───────────┴──────────┴───────────┴───────────┘"
      ]
     },
     "execution_count": 12,
     "metadata": {},
     "output_type": "execute_result"
    }
   ],
   "source": [
    "pl_df_hybrid.describe()"
   ]
  },
  {
   "cell_type": "code",
   "execution_count": 13,
   "id": "2f3a81cb",
   "metadata": {},
   "outputs": [
    {
     "data": {
      "text/html": [
       "<div><style>\n",
       ".dataframe > thead > tr,\n",
       ".dataframe > tbody > tr {\n",
       "  text-align: right;\n",
       "  white-space: pre-wrap;\n",
       "}\n",
       "</style>\n",
       "<small>shape: (9, 322)</small><table border=\"1\" class=\"dataframe\"><thead><tr><th>statistic</th><th>#CHROM</th><th>POS</th><th>ID</th><th>REF</th><th>ALT</th><th>QUAL</th><th>FILTER</th><th>INFO</th><th>FORMAT</th><th>GE18N213</th><th>GE18N080</th><th>GE18N143</th><th>GE18N031</th><th>GE18N070</th><th>GE18N351</th><th>GE18N147</th><th>GE18N040</th><th>GE18N117</th><th>GE18N310</th><th>GE18N064</th><th>GE18N210</th><th>GE18N259</th><th>GE18N251</th><th>GE18N232</th><th>GE18N035</th><th>GE18N393</th><th>GE18N272</th><th>GE18N260</th><th>GE18N293</th><th>GE18N178</th><th>GE18N048</th><th>GE18N024</th><th>GE18N038</th><th>GE18N028</th><th>GE18N056</th><th>GE18N114</th><th>&hellip;</th><th>GE18N256</th><th>GE18N431</th><th>GE18N164</th><th>GE18N352</th><th>GE18N036</th><th>GE18N138</th><th>GE18N436</th><th>GE18N015</th><th>GE18N354</th><th>GE18N019</th><th>GE18N103</th><th>GE18N319</th><th>GE18N052</th><th>GE18N249</th><th>GE18N069</th><th>GE18N082</th><th>GE18N067</th><th>GE18N186</th><th>GE18N150</th><th>GE18N160</th><th>GE18N053</th><th>GE18N378</th><th>GE18N365</th><th>GE18N008</th><th>GE18N054</th><th>GE18N007</th><th>GE18N401</th><th>GE18N116</th><th>GE18N376</th><th>GE18N184</th><th>GE18N340</th><th>GE18N017</th><th>GE18N428</th><th>GE18N115</th><th>GE18N298</th><th>GE18N018</th><th>GE18N308</th></tr><tr><td>str</td><td>f64</td><td>f64</td><td>str</td><td>str</td><td>str</td><td>str</td><td>str</td><td>str</td><td>str</td><td>str</td><td>str</td><td>str</td><td>str</td><td>str</td><td>str</td><td>str</td><td>str</td><td>str</td><td>str</td><td>str</td><td>str</td><td>str</td><td>str</td><td>str</td><td>str</td><td>str</td><td>str</td><td>str</td><td>str</td><td>str</td><td>str</td><td>str</td><td>str</td><td>str</td><td>str</td><td>str</td><td>&hellip;</td><td>str</td><td>str</td><td>str</td><td>str</td><td>str</td><td>str</td><td>str</td><td>str</td><td>str</td><td>str</td><td>str</td><td>str</td><td>str</td><td>str</td><td>str</td><td>str</td><td>str</td><td>str</td><td>str</td><td>str</td><td>str</td><td>str</td><td>str</td><td>str</td><td>str</td><td>str</td><td>str</td><td>str</td><td>str</td><td>str</td><td>str</td><td>str</td><td>str</td><td>str</td><td>str</td><td>str</td><td>str</td></tr></thead><tbody><tr><td>&quot;count&quot;</td><td>1.353525e6</td><td>1.353525e6</td><td>&quot;1353525&quot;</td><td>&quot;1353525&quot;</td><td>&quot;1353525&quot;</td><td>&quot;1353525&quot;</td><td>&quot;1353525&quot;</td><td>&quot;1353525&quot;</td><td>&quot;1353525&quot;</td><td>&quot;1353525&quot;</td><td>&quot;1353525&quot;</td><td>&quot;1353525&quot;</td><td>&quot;1353525&quot;</td><td>&quot;1353525&quot;</td><td>&quot;1353525&quot;</td><td>&quot;1353525&quot;</td><td>&quot;1353525&quot;</td><td>&quot;1353525&quot;</td><td>&quot;1353525&quot;</td><td>&quot;1353525&quot;</td><td>&quot;1353525&quot;</td><td>&quot;1353525&quot;</td><td>&quot;1353525&quot;</td><td>&quot;1353525&quot;</td><td>&quot;1353525&quot;</td><td>&quot;1353525&quot;</td><td>&quot;1353525&quot;</td><td>&quot;1353525&quot;</td><td>&quot;1353525&quot;</td><td>&quot;1353525&quot;</td><td>&quot;1353525&quot;</td><td>&quot;1353525&quot;</td><td>&quot;1353525&quot;</td><td>&quot;1353525&quot;</td><td>&quot;1353525&quot;</td><td>&quot;1353525&quot;</td><td>&hellip;</td><td>&quot;1353525&quot;</td><td>&quot;1353525&quot;</td><td>&quot;1353525&quot;</td><td>&quot;1353525&quot;</td><td>&quot;1353525&quot;</td><td>&quot;1353525&quot;</td><td>&quot;1353525&quot;</td><td>&quot;1353525&quot;</td><td>&quot;1353525&quot;</td><td>&quot;1353525&quot;</td><td>&quot;1353525&quot;</td><td>&quot;1353525&quot;</td><td>&quot;1353525&quot;</td><td>&quot;1353525&quot;</td><td>&quot;1353525&quot;</td><td>&quot;1353525&quot;</td><td>&quot;1353525&quot;</td><td>&quot;1353525&quot;</td><td>&quot;1353525&quot;</td><td>&quot;1353525&quot;</td><td>&quot;1353525&quot;</td><td>&quot;1353525&quot;</td><td>&quot;1353525&quot;</td><td>&quot;1353525&quot;</td><td>&quot;1353525&quot;</td><td>&quot;1353525&quot;</td><td>&quot;1353525&quot;</td><td>&quot;1353525&quot;</td><td>&quot;1353525&quot;</td><td>&quot;1353525&quot;</td><td>&quot;1353525&quot;</td><td>&quot;1353525&quot;</td><td>&quot;1353525&quot;</td><td>&quot;1353525&quot;</td><td>&quot;1353525&quot;</td><td>&quot;1353525&quot;</td><td>&quot;1353525&quot;</td></tr><tr><td>&quot;null_count&quot;</td><td>0.0</td><td>0.0</td><td>&quot;0&quot;</td><td>&quot;0&quot;</td><td>&quot;0&quot;</td><td>&quot;0&quot;</td><td>&quot;0&quot;</td><td>&quot;0&quot;</td><td>&quot;0&quot;</td><td>&quot;0&quot;</td><td>&quot;0&quot;</td><td>&quot;0&quot;</td><td>&quot;0&quot;</td><td>&quot;0&quot;</td><td>&quot;0&quot;</td><td>&quot;0&quot;</td><td>&quot;0&quot;</td><td>&quot;0&quot;</td><td>&quot;0&quot;</td><td>&quot;0&quot;</td><td>&quot;0&quot;</td><td>&quot;0&quot;</td><td>&quot;0&quot;</td><td>&quot;0&quot;</td><td>&quot;0&quot;</td><td>&quot;0&quot;</td><td>&quot;0&quot;</td><td>&quot;0&quot;</td><td>&quot;0&quot;</td><td>&quot;0&quot;</td><td>&quot;0&quot;</td><td>&quot;0&quot;</td><td>&quot;0&quot;</td><td>&quot;0&quot;</td><td>&quot;0&quot;</td><td>&quot;0&quot;</td><td>&hellip;</td><td>&quot;0&quot;</td><td>&quot;0&quot;</td><td>&quot;0&quot;</td><td>&quot;0&quot;</td><td>&quot;0&quot;</td><td>&quot;0&quot;</td><td>&quot;0&quot;</td><td>&quot;0&quot;</td><td>&quot;0&quot;</td><td>&quot;0&quot;</td><td>&quot;0&quot;</td><td>&quot;0&quot;</td><td>&quot;0&quot;</td><td>&quot;0&quot;</td><td>&quot;0&quot;</td><td>&quot;0&quot;</td><td>&quot;0&quot;</td><td>&quot;0&quot;</td><td>&quot;0&quot;</td><td>&quot;0&quot;</td><td>&quot;0&quot;</td><td>&quot;0&quot;</td><td>&quot;0&quot;</td><td>&quot;0&quot;</td><td>&quot;0&quot;</td><td>&quot;0&quot;</td><td>&quot;0&quot;</td><td>&quot;0&quot;</td><td>&quot;0&quot;</td><td>&quot;0&quot;</td><td>&quot;0&quot;</td><td>&quot;0&quot;</td><td>&quot;0&quot;</td><td>&quot;0&quot;</td><td>&quot;0&quot;</td><td>&quot;0&quot;</td><td>&quot;0&quot;</td></tr><tr><td>&quot;mean&quot;</td><td>4.982385</td><td>1.2350e8</td><td>null</td><td>null</td><td>null</td><td>null</td><td>null</td><td>null</td><td>null</td><td>null</td><td>null</td><td>null</td><td>null</td><td>null</td><td>null</td><td>null</td><td>null</td><td>null</td><td>null</td><td>null</td><td>null</td><td>null</td><td>null</td><td>null</td><td>null</td><td>null</td><td>null</td><td>null</td><td>null</td><td>null</td><td>null</td><td>null</td><td>null</td><td>null</td><td>null</td><td>null</td><td>&hellip;</td><td>null</td><td>null</td><td>null</td><td>null</td><td>null</td><td>null</td><td>null</td><td>null</td><td>null</td><td>null</td><td>null</td><td>null</td><td>null</td><td>null</td><td>null</td><td>null</td><td>null</td><td>null</td><td>null</td><td>null</td><td>null</td><td>null</td><td>null</td><td>null</td><td>null</td><td>null</td><td>null</td><td>null</td><td>null</td><td>null</td><td>null</td><td>null</td><td>null</td><td>null</td><td>null</td><td>null</td><td>null</td></tr><tr><td>&quot;std&quot;</td><td>2.818017</td><td>7.9398e7</td><td>null</td><td>null</td><td>null</td><td>null</td><td>null</td><td>null</td><td>null</td><td>null</td><td>null</td><td>null</td><td>null</td><td>null</td><td>null</td><td>null</td><td>null</td><td>null</td><td>null</td><td>null</td><td>null</td><td>null</td><td>null</td><td>null</td><td>null</td><td>null</td><td>null</td><td>null</td><td>null</td><td>null</td><td>null</td><td>null</td><td>null</td><td>null</td><td>null</td><td>null</td><td>&hellip;</td><td>null</td><td>null</td><td>null</td><td>null</td><td>null</td><td>null</td><td>null</td><td>null</td><td>null</td><td>null</td><td>null</td><td>null</td><td>null</td><td>null</td><td>null</td><td>null</td><td>null</td><td>null</td><td>null</td><td>null</td><td>null</td><td>null</td><td>null</td><td>null</td><td>null</td><td>null</td><td>null</td><td>null</td><td>null</td><td>null</td><td>null</td><td>null</td><td>null</td><td>null</td><td>null</td><td>null</td><td>null</td></tr><tr><td>&quot;min&quot;</td><td>1.0</td><td>59303.0</td><td>&quot;S10_100051854&quot;</td><td>&quot;A&quot;</td><td>&quot;+&quot;</td><td>&quot;.&quot;</td><td>&quot;PASS&quot;</td><td>&quot;AC=10,100;AN=544&quot;</td><td>&quot;GT&quot;</td><td>&quot;./.&quot;</td><td>&quot;./.&quot;</td><td>&quot;./.&quot;</td><td>&quot;./.&quot;</td><td>&quot;./.&quot;</td><td>&quot;./.&quot;</td><td>&quot;./.&quot;</td><td>&quot;./.&quot;</td><td>&quot;./.&quot;</td><td>&quot;./.&quot;</td><td>&quot;./.&quot;</td><td>&quot;./.&quot;</td><td>&quot;./.&quot;</td><td>&quot;./.&quot;</td><td>&quot;./.&quot;</td><td>&quot;./.&quot;</td><td>&quot;./.&quot;</td><td>&quot;./.&quot;</td><td>&quot;./.&quot;</td><td>&quot;./.&quot;</td><td>&quot;./.&quot;</td><td>&quot;./.&quot;</td><td>&quot;./.&quot;</td><td>&quot;./.&quot;</td><td>&quot;./.&quot;</td><td>&quot;./.&quot;</td><td>&quot;./.&quot;</td><td>&hellip;</td><td>&quot;./.&quot;</td><td>&quot;./.&quot;</td><td>&quot;./.&quot;</td><td>&quot;./.&quot;</td><td>&quot;./.&quot;</td><td>&quot;./.&quot;</td><td>&quot;./.&quot;</td><td>&quot;./.&quot;</td><td>&quot;./.&quot;</td><td>&quot;./.&quot;</td><td>&quot;./.&quot;</td><td>&quot;./.&quot;</td><td>&quot;./.&quot;</td><td>&quot;./.&quot;</td><td>&quot;./.&quot;</td><td>&quot;./.&quot;</td><td>&quot;./.&quot;</td><td>&quot;./.&quot;</td><td>&quot;./.&quot;</td><td>&quot;./.&quot;</td><td>&quot;./.&quot;</td><td>&quot;./.&quot;</td><td>&quot;./.&quot;</td><td>&quot;./.&quot;</td><td>&quot;./.&quot;</td><td>&quot;./.&quot;</td><td>&quot;./.&quot;</td><td>&quot;./.&quot;</td><td>&quot;./.&quot;</td><td>&quot;./.&quot;</td><td>&quot;./.&quot;</td><td>&quot;./.&quot;</td><td>&quot;./.&quot;</td><td>&quot;./.&quot;</td><td>&quot;./.&quot;</td><td>&quot;./.&quot;</td><td>&quot;./.&quot;</td></tr><tr><td>&quot;25%&quot;</td><td>3.0</td><td>4.6956486e7</td><td>null</td><td>null</td><td>null</td><td>null</td><td>null</td><td>null</td><td>null</td><td>null</td><td>null</td><td>null</td><td>null</td><td>null</td><td>null</td><td>null</td><td>null</td><td>null</td><td>null</td><td>null</td><td>null</td><td>null</td><td>null</td><td>null</td><td>null</td><td>null</td><td>null</td><td>null</td><td>null</td><td>null</td><td>null</td><td>null</td><td>null</td><td>null</td><td>null</td><td>null</td><td>&hellip;</td><td>null</td><td>null</td><td>null</td><td>null</td><td>null</td><td>null</td><td>null</td><td>null</td><td>null</td><td>null</td><td>null</td><td>null</td><td>null</td><td>null</td><td>null</td><td>null</td><td>null</td><td>null</td><td>null</td><td>null</td><td>null</td><td>null</td><td>null</td><td>null</td><td>null</td><td>null</td><td>null</td><td>null</td><td>null</td><td>null</td><td>null</td><td>null</td><td>null</td><td>null</td><td>null</td><td>null</td><td>null</td></tr><tr><td>&quot;50%&quot;</td><td>5.0</td><td>1.35299556e8</td><td>null</td><td>null</td><td>null</td><td>null</td><td>null</td><td>null</td><td>null</td><td>null</td><td>null</td><td>null</td><td>null</td><td>null</td><td>null</td><td>null</td><td>null</td><td>null</td><td>null</td><td>null</td><td>null</td><td>null</td><td>null</td><td>null</td><td>null</td><td>null</td><td>null</td><td>null</td><td>null</td><td>null</td><td>null</td><td>null</td><td>null</td><td>null</td><td>null</td><td>null</td><td>&hellip;</td><td>null</td><td>null</td><td>null</td><td>null</td><td>null</td><td>null</td><td>null</td><td>null</td><td>null</td><td>null</td><td>null</td><td>null</td><td>null</td><td>null</td><td>null</td><td>null</td><td>null</td><td>null</td><td>null</td><td>null</td><td>null</td><td>null</td><td>null</td><td>null</td><td>null</td><td>null</td><td>null</td><td>null</td><td>null</td><td>null</td><td>null</td><td>null</td><td>null</td><td>null</td><td>null</td><td>null</td><td>null</td></tr><tr><td>&quot;75%&quot;</td><td>8.0</td><td>1.79001855e8</td><td>null</td><td>null</td><td>null</td><td>null</td><td>null</td><td>null</td><td>null</td><td>null</td><td>null</td><td>null</td><td>null</td><td>null</td><td>null</td><td>null</td><td>null</td><td>null</td><td>null</td><td>null</td><td>null</td><td>null</td><td>null</td><td>null</td><td>null</td><td>null</td><td>null</td><td>null</td><td>null</td><td>null</td><td>null</td><td>null</td><td>null</td><td>null</td><td>null</td><td>null</td><td>&hellip;</td><td>null</td><td>null</td><td>null</td><td>null</td><td>null</td><td>null</td><td>null</td><td>null</td><td>null</td><td>null</td><td>null</td><td>null</td><td>null</td><td>null</td><td>null</td><td>null</td><td>null</td><td>null</td><td>null</td><td>null</td><td>null</td><td>null</td><td>null</td><td>null</td><td>null</td><td>null</td><td>null</td><td>null</td><td>null</td><td>null</td><td>null</td><td>null</td><td>null</td><td>null</td><td>null</td><td>null</td><td>null</td></tr><tr><td>&quot;max&quot;</td><td>10.0</td><td>3.06619814e8</td><td>&quot;S9_99852270&quot;</td><td>&quot;T&quot;</td><td>&quot;T,G,C,+&quot;</td><td>&quot;.&quot;</td><td>&quot;PASS&quot;</td><td>&quot;AC=98;AN=624&quot;</td><td>&quot;GT&quot;</td><td>&quot;4/4&quot;</td><td>&quot;4/4&quot;</td><td>&quot;4/4&quot;</td><td>&quot;4/4&quot;</td><td>&quot;4/4&quot;</td><td>&quot;4/4&quot;</td><td>&quot;4/4&quot;</td><td>&quot;4/4&quot;</td><td>&quot;4/4&quot;</td><td>&quot;4/4&quot;</td><td>&quot;4/4&quot;</td><td>&quot;4/4&quot;</td><td>&quot;4/4&quot;</td><td>&quot;4/4&quot;</td><td>&quot;4/4&quot;</td><td>&quot;4/4&quot;</td><td>&quot;4/4&quot;</td><td>&quot;4/4&quot;</td><td>&quot;4/4&quot;</td><td>&quot;4/4&quot;</td><td>&quot;4/4&quot;</td><td>&quot;4/4&quot;</td><td>&quot;4/4&quot;</td><td>&quot;4/4&quot;</td><td>&quot;4/4&quot;</td><td>&quot;4/4&quot;</td><td>&quot;4/4&quot;</td><td>&hellip;</td><td>&quot;4/4&quot;</td><td>&quot;4/4&quot;</td><td>&quot;4/4&quot;</td><td>&quot;4/4&quot;</td><td>&quot;4/4&quot;</td><td>&quot;4/4&quot;</td><td>&quot;4/4&quot;</td><td>&quot;4/4&quot;</td><td>&quot;4/4&quot;</td><td>&quot;4/4&quot;</td><td>&quot;4/4&quot;</td><td>&quot;4/4&quot;</td><td>&quot;4/4&quot;</td><td>&quot;4/4&quot;</td><td>&quot;4/4&quot;</td><td>&quot;4/4&quot;</td><td>&quot;4/4&quot;</td><td>&quot;4/4&quot;</td><td>&quot;4/4&quot;</td><td>&quot;4/4&quot;</td><td>&quot;4/4&quot;</td><td>&quot;4/4&quot;</td><td>&quot;4/4&quot;</td><td>&quot;4/4&quot;</td><td>&quot;4/4&quot;</td><td>&quot;4/4&quot;</td><td>&quot;4/4&quot;</td><td>&quot;4/4&quot;</td><td>&quot;4/4&quot;</td><td>&quot;4/4&quot;</td><td>&quot;4/4&quot;</td><td>&quot;4/4&quot;</td><td>&quot;4/4&quot;</td><td>&quot;4/4&quot;</td><td>&quot;4/4&quot;</td><td>&quot;4/4&quot;</td><td>&quot;4/4&quot;</td></tr></tbody></table></div>"
      ],
      "text/plain": [
       "shape: (9, 322)\n",
       "┌────────────┬────────────┬────────────┬───────────┬───┬──────────┬──────────┬──────────┬──────────┐\n",
       "│ statistic  ┆ #CHROM     ┆ POS        ┆ ID        ┆ … ┆ GE18N115 ┆ GE18N298 ┆ GE18N018 ┆ GE18N308 │\n",
       "│ ---        ┆ ---        ┆ ---        ┆ ---       ┆   ┆ ---      ┆ ---      ┆ ---      ┆ ---      │\n",
       "│ str        ┆ f64        ┆ f64        ┆ str       ┆   ┆ str      ┆ str      ┆ str      ┆ str      │\n",
       "╞════════════╪════════════╪════════════╪═══════════╪═══╪══════════╪══════════╪══════════╪══════════╡\n",
       "│ count      ┆ 1.353525e6 ┆ 1.353525e6 ┆ 1353525   ┆ … ┆ 1353525  ┆ 1353525  ┆ 1353525  ┆ 1353525  │\n",
       "│ null_count ┆ 0.0        ┆ 0.0        ┆ 0         ┆ … ┆ 0        ┆ 0        ┆ 0        ┆ 0        │\n",
       "│ mean       ┆ 4.982385   ┆ 1.2350e8   ┆ null      ┆ … ┆ null     ┆ null     ┆ null     ┆ null     │\n",
       "│ std        ┆ 2.818017   ┆ 7.9398e7   ┆ null      ┆ … ┆ null     ┆ null     ┆ null     ┆ null     │\n",
       "│ min        ┆ 1.0        ┆ 59303.0    ┆ S10_10005 ┆ … ┆ ./.      ┆ ./.      ┆ ./.      ┆ ./.      │\n",
       "│            ┆            ┆            ┆ 1854      ┆   ┆          ┆          ┆          ┆          │\n",
       "│ 25%        ┆ 3.0        ┆ 4.6956486e ┆ null      ┆ … ┆ null     ┆ null     ┆ null     ┆ null     │\n",
       "│            ┆            ┆ 7          ┆           ┆   ┆          ┆          ┆          ┆          │\n",
       "│ 50%        ┆ 5.0        ┆ 1.35299556 ┆ null      ┆ … ┆ null     ┆ null     ┆ null     ┆ null     │\n",
       "│            ┆            ┆ e8         ┆           ┆   ┆          ┆          ┆          ┆          │\n",
       "│ 75%        ┆ 8.0        ┆ 1.79001855 ┆ null      ┆ … ┆ null     ┆ null     ┆ null     ┆ null     │\n",
       "│            ┆            ┆ e8         ┆           ┆   ┆          ┆          ┆          ┆          │\n",
       "│ max        ┆ 10.0       ┆ 3.06619814 ┆ S9_998522 ┆ … ┆ 4/4      ┆ 4/4      ┆ 4/4      ┆ 4/4      │\n",
       "│            ┆            ┆ e8         ┆ 70        ┆   ┆          ┆          ┆          ┆          │\n",
       "└────────────┴────────────┴────────────┴───────────┴───┴──────────┴──────────┴──────────┴──────────┘"
      ]
     },
     "execution_count": 13,
     "metadata": {},
     "output_type": "execute_result"
    }
   ],
   "source": [
    "pl_df_genomic.describe()"
   ]
  }
 ],
 "metadata": {
  "kernelspec": {
   "display_name": ".venv",
   "language": "python",
   "name": "python3"
  },
  "language_info": {
   "codemirror_mode": {
    "name": "ipython",
    "version": 3
   },
   "file_extension": ".py",
   "mimetype": "text/x-python",
   "name": "python",
   "nbconvert_exporter": "python",
   "pygments_lexer": "ipython3",
   "version": "3.12.5"
  }
 },
 "nbformat": 4,
 "nbformat_minor": 5
}
